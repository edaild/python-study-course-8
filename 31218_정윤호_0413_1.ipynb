{
 "cells": [
  {
   "cell_type": "markdown",
   "id": "5c50e815",
   "metadata": {},
   "source": [
    "31218_정윤호_0413_1"
   ]
  },
  {
   "cell_type": "markdown",
   "id": "44dbf232",
   "metadata": {},
   "source": [
    "# 3. 리스트와 제어구조\n",
    "### 1) for a in data 에서 data에 리스트를 넣을때\n",
    "다음 spending의 모든 원소를 차례대로 출력하시오\n",
    "\n",
    "spending = [25, 36, 8, 53, 24, 56]"
   ]
  },
  {
   "cell_type": "code",
   "execution_count": 32,
   "id": "bf3f4866",
   "metadata": {},
   "outputs": [],
   "source": [
    "spending = [25, 36, 8, 53, 24, 56]"
   ]
  },
  {
   "cell_type": "code",
   "execution_count": 11,
   "id": "d30f38ed",
   "metadata": {},
   "outputs": [
    {
     "name": "stdout",
     "output_type": "stream",
     "text": [
      "지출은 25\n",
      "지출은 36\n",
      "지출은 8\n",
      "지출은 53\n",
      "지출은 24\n",
      "지출은 56\n"
     ]
    }
   ],
   "source": [
    "# 반복문 for i in data\n",
    "\n",
    "for i in spending :\n",
    "    print('지출은', i)"
   ]
  },
  {
   "cell_type": "code",
   "execution_count": 19,
   "id": "fab9e370",
   "metadata": {},
   "outputs": [
    {
     "name": "stdout",
     "output_type": "stream",
     "text": [
      "지출은 53\n",
      "지출은 56\n"
     ]
    }
   ],
   "source": [
    "# 50이상 쓴 금액을 출력하시오\n",
    "for i in spending :\n",
    "    if i >= 50 :\n",
    "        print('지출은', i)"
   ]
  },
  {
   "cell_type": "markdown",
   "id": "7bdf37b3",
   "metadata": {},
   "source": [
    "### 2) for a in data 에서 data에 range()를 넣을 때\n",
    "출력형식\n",
    "```\n",
    "1월 지출은 25\n",
    "```"
   ]
  },
  {
   "cell_type": "code",
   "execution_count": 31,
   "id": "2ea72b42",
   "metadata": {},
   "outputs": [
    {
     "name": "stdout",
     "output_type": "stream",
     "text": [
      "1 월 지출은 25\n",
      "2 월 지출은 36\n",
      "3 월 지출은 8\n",
      "4 월 지출은 53\n",
      "5 월 지출은 24\n",
      "6 월 지출은 56\n",
      "7 월 지출은 80\n",
      "8 월 지출은 12\n"
     ]
    }
   ],
   "source": [
    "spending = [25, 36, 8, 53, 24, 56, 80, 12]\n",
    "\n",
    "# 인덱스를 활용하고 싶을때 range()\n",
    "for i in range(len(spending)) :\n",
    "    print(i+1,'월 지출은', spending[i])"
   ]
  },
  {
   "cell_type": "code",
   "execution_count": 33,
   "id": "6f2f42d7",
   "metadata": {},
   "outputs": [
    {
     "name": "stdout",
     "output_type": "stream",
     "text": [
      "[[1, 2, 3], [4, 5, 6], [7, 8, 9]]\n"
     ]
    }
   ],
   "source": [
    "abc = [[1,2,3], [4,5,6], [7,8,9]]\n",
    "print(abc)"
   ]
  },
  {
   "cell_type": "code",
   "execution_count": 36,
   "id": "ac08e8ca",
   "metadata": {},
   "outputs": [
    {
     "name": "stdout",
     "output_type": "stream",
     "text": [
      "[1, 2, 3]\n",
      "[4, 5, 6]\n",
      "[7, 8, 9]\n"
     ]
    }
   ],
   "source": [
    "print(abc[0])\n",
    "print(abc[1])\n",
    "print(abc[2])"
   ]
  },
  {
   "cell_type": "code",
   "execution_count": 37,
   "id": "4f48e258",
   "metadata": {},
   "outputs": [
    {
     "name": "stdout",
     "output_type": "stream",
     "text": [
      "1\n"
     ]
    }
   ],
   "source": [
    "print(abc[0][0])"
   ]
  },
  {
   "cell_type": "code",
   "execution_count": 38,
   "id": "1b97b87b",
   "metadata": {},
   "outputs": [
    {
     "name": "stdout",
     "output_type": "stream",
     "text": [
      "6\n"
     ]
    }
   ],
   "source": [
    "# 6 출력하기\n",
    "print(abc[1][2])"
   ]
  },
  {
   "cell_type": "code",
   "execution_count": 39,
   "id": "cc565f35",
   "metadata": {},
   "outputs": [
    {
     "name": "stdout",
     "output_type": "stream",
     "text": [
      "8\n"
     ]
    }
   ],
   "source": [
    "# 8출력하기\n",
    "print(abc[2][1])"
   ]
  },
  {
   "cell_type": "code",
   "execution_count": 40,
   "id": "7169c161",
   "metadata": {},
   "outputs": [
    {
     "name": "stdout",
     "output_type": "stream",
     "text": [
      "[1, 2, 3]\n",
      "[4, 5, 6]\n",
      "[7, 8, 9]\n"
     ]
    }
   ],
   "source": [
    "# for문을 이요해서 전체 출력\n",
    "for row in abc :\n",
    "    print(row)"
   ]
  },
  {
   "cell_type": "code",
   "execution_count": 41,
   "id": "b9d0874f",
   "metadata": {},
   "outputs": [],
   "source": [
    "# 모든 줄의 첫번째 데이터만 출력\n",
    "for row in abc :\n",
    "    print(row)"
   ]
  },
  {
   "cell_type": "code",
   "execution_count": 42,
   "id": "68d42fca",
   "metadata": {},
   "outputs": [],
   "source": [
    "# 모든 줄의 마지막 데이터(서번쨰 열)만 출력"
   ]
  },
  {
   "cell_type": "code",
   "execution_count": null,
   "id": "e90465cb",
   "metadata": {},
   "outputs": [],
   "source": []
  }
 ],
 "metadata": {
  "kernelspec": {
   "display_name": "Python 3 (ipykernel)",
   "language": "python",
   "name": "python3"
  },
  "language_info": {
   "codemirror_mode": {
    "name": "ipython",
    "version": 3
   },
   "file_extension": ".py",
   "mimetype": "text/x-python",
   "name": "python",
   "nbconvert_exporter": "python",
   "pygments_lexer": "ipython3",
   "version": "3.9.7"
  }
 },
 "nbformat": 4,
 "nbformat_minor": 5
}
